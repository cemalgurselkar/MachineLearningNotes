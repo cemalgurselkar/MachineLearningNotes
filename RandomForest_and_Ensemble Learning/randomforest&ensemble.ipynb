{
 "cells": [
  {
   "cell_type": "markdown",
   "metadata": {},
   "source": [
    "# Ensemble Learning"
   ]
  },
  {
   "cell_type": "markdown",
   "metadata": {},
   "source": [
    "### Random Forest & Gradient Boosting\n",
    "* Çoklu algoritmalar içeren algoritmalara ensemble denir.\n",
    "* Birden fazla desicion treeden oluşur (Random Forest)\n"
   ]
  },
  {
   "cell_type": "code",
   "execution_count": 5,
   "metadata": {},
   "outputs": [],
   "source": [
    "from sklearn.datasets import make_moons"
   ]
  },
  {
   "cell_type": "code",
   "execution_count": 6,
   "metadata": {},
   "outputs": [],
   "source": [
    "x,y = make_moons(n_samples=100,noise=0.25,random_state=3)"
   ]
  },
  {
   "cell_type": "code",
   "execution_count": 7,
   "metadata": {},
   "outputs": [],
   "source": [
    "from sklearn.model_selection import train_test_split\n",
    "x_train,x_test,y_train,y_test = train_test_split(x,y,stratify=y)"
   ]
  },
  {
   "cell_type": "code",
   "execution_count": 9,
   "metadata": {},
   "outputs": [],
   "source": [
    "from sklearn.ensemble import RandomForestClassifier\n",
    "from sklearn.ensemble import VotingClassifier\n",
    "from sklearn.linear_model import LogisticRegression\n",
    "from sklearn.svm import SVC\n",
    "\n",
    "log = LogisticRegression(solver='lbfgs').fit(x_train,y_train)\n",
    "rnd = RandomForestClassifier(n_estimators=10).fit(x_train,y_train)\n",
    "svm = SVC(gamma='auto').fit(x_train,y_train)\n",
    "voting = VotingClassifier([('lr',log),('rf',rnd),('svc',svm)],\n",
    "                          voting='hard').fit(x_train,y_train)"
   ]
  },
  {
   "cell_type": "code",
   "execution_count": 10,
   "metadata": {},
   "outputs": [
    {
     "name": "stdout",
     "output_type": "stream",
     "text": [
      "0.84\n",
      "0.72\n",
      "0.88\n",
      "0.88\n"
     ]
    }
   ],
   "source": [
    "print(log.score(x_test,y_test))\n",
    "print(rnd.score(x_test,y_test))\n",
    "print(svm.score(x_test,y_test))\n",
    "print(voting.score(x_test,y_test))"
   ]
  },
  {
   "cell_type": "markdown",
   "metadata": {},
   "source": [
    "## Bagging and Boostrap"
   ]
  },
  {
   "cell_type": "code",
   "execution_count": 11,
   "metadata": {},
   "outputs": [],
   "source": [
    "from sklearn.ensemble import BaggingClassifier\n",
    "from sklearn.tree import DecisionTreeClassifier\n",
    "from sklearn.datasets import make_blobs"
   ]
  },
  {
   "cell_type": "code",
   "execution_count": 12,
   "metadata": {},
   "outputs": [],
   "source": [
    "from sklearn.model_selection import train_test_split\n",
    "x,y = make_blobs(n_samples=400,centers=5,random_state=0,cluster_std=1)\n",
    "x_train,x_test,y_train,y_test = train_test_split(x,y,stratify=y)"
   ]
  },
  {
   "cell_type": "code",
   "execution_count": 13,
   "metadata": {},
   "outputs": [],
   "source": [
    "tree = DecisionTreeClassifier().fit(x_train,y_train)\n",
    "bag = BaggingClassifier(tree,\n",
    "                        n_estimators=100,\n",
    "                        max_samples=0.8,\n",
    "                        n_jobs=-1,\n",
    "                        random_state=1).fit(x_train,y_train)"
   ]
  },
  {
   "cell_type": "code",
   "execution_count": 14,
   "metadata": {},
   "outputs": [
    {
     "name": "stdout",
     "output_type": "stream",
     "text": [
      "0.92\n",
      "0.94\n"
     ]
    }
   ],
   "source": [
    "print(tree.score(x_test,y_test))\n",
    "print(bag.score(x_test,y_test))"
   ]
  },
  {
   "cell_type": "markdown",
   "metadata": {},
   "source": [
    "## Gradient Boosted Ağaçları\n",
    "* Gradient boosted ağaçlar, zayıf tahminleyicileri bir araya getirerek, her birinin hatalarını düzeltmeye çalışarak daha güçlü bir model oluşturan bir makine öğrenmesi algoritmasıdır."
   ]
  },
  {
   "cell_type": "code",
   "execution_count": 16,
   "metadata": {},
   "outputs": [],
   "source": [
    "from sklearn.ensemble import GradientBoostingClassifier\n",
    "gbrt = GradientBoostingClassifier(random_state=0).fit(x_train,y_train)"
   ]
  },
  {
   "cell_type": "code",
   "execution_count": 18,
   "metadata": {},
   "outputs": [
    {
     "name": "stdout",
     "output_type": "stream",
     "text": [
      "Train Acc 1.0\n",
      "Test Acc 0.93\n"
     ]
    }
   ],
   "source": [
    "print(f\"Train Acc {gbrt.score(x_train,y_train)}\")\n",
    "print(f\"Test Acc {gbrt.score(x_test,y_test)}\")"
   ]
  },
  {
   "cell_type": "markdown",
   "metadata": {},
   "source": [
    "* modelde overfitting var. bunu max_depth parameterisi ile düzeltelim."
   ]
  },
  {
   "cell_type": "code",
   "execution_count": 21,
   "metadata": {},
   "outputs": [],
   "source": [
    "from sklearn.ensemble import GradientBoostingClassifier\n",
    "gbrt = GradientBoostingClassifier(max_depth=1,random_state=0).fit(x_train,y_train)"
   ]
  },
  {
   "cell_type": "code",
   "execution_count": 22,
   "metadata": {},
   "outputs": [
    {
     "name": "stdout",
     "output_type": "stream",
     "text": [
      "Train Acc 0.9833333333333333\n",
      "Test Acc 0.95\n"
     ]
    }
   ],
   "source": [
    "print(f\"Train Acc {gbrt.score(x_train,y_train)}\")\n",
    "print(f\"Test Acc {gbrt.score(x_test,y_test)}\")"
   ]
  }
 ],
 "metadata": {
  "kernelspec": {
   "display_name": ".venv",
   "language": "python",
   "name": "python3"
  },
  "language_info": {
   "codemirror_mode": {
    "name": "ipython",
    "version": 3
   },
   "file_extension": ".py",
   "mimetype": "text/x-python",
   "name": "python",
   "nbconvert_exporter": "python",
   "pygments_lexer": "ipython3",
   "version": "3.11.9"
  }
 },
 "nbformat": 4,
 "nbformat_minor": 2
}
